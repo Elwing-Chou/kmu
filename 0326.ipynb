{
  "nbformat": 4,
  "nbformat_minor": 0,
  "metadata": {
    "colab": {
      "provenance": [],
      "authorship_tag": "ABX9TyO7arkqzGGFBbZrd7kvJLKp",
      "include_colab_link": true
    },
    "kernelspec": {
      "name": "python3",
      "display_name": "Python 3"
    },
    "language_info": {
      "name": "python"
    }
  },
  "cells": [
    {
      "cell_type": "markdown",
      "metadata": {
        "id": "view-in-github",
        "colab_type": "text"
      },
      "source": [
        "<a href=\"https://colab.research.google.com/github/Elwing-Chou/kmu/blob/main/0326.ipynb\" target=\"_parent\"><img src=\"https://colab.research.google.com/assets/colab-badge.svg\" alt=\"Open In Colab\"/></a>"
      ]
    },
    {
      "cell_type": "markdown",
      "source": [
        "Latex Math\n",
        "\n",
        "$ 標準差 = \\frac{1}{n} \\sum_{i=1}^n (p_i - \\mu) ^ 2 $"
      ],
      "metadata": {
        "id": "VFrh85D0r2Ks"
      }
    },
    {
      "cell_type": "code",
      "execution_count": null,
      "metadata": {
        "id": "9LjS5naMoBZ9"
      },
      "outputs": [],
      "source": []
    }
  ]
}