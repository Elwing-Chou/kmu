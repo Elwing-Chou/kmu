{
  "nbformat": 4,
  "nbformat_minor": 0,
  "metadata": {
    "colab": {
      "provenance": [],
      "authorship_tag": "ABX9TyNRbJSM0uJq4VmbL8+AtGxz",
      "include_colab_link": true
    },
    "kernelspec": {
      "name": "python3",
      "display_name": "Python 3"
    },
    "language_info": {
      "name": "python"
    }
  },
  "cells": [
    {
      "cell_type": "markdown",
      "metadata": {
        "id": "view-in-github",
        "colab_type": "text"
      },
      "source": [
        "<a href=\"https://colab.research.google.com/github/Elwing-Chou/kmu/blob/main/0325_1.ipynb\" target=\"_parent\"><img src=\"https://colab.research.google.com/assets/colab-badge.svg\" alt=\"Open In Colab\"/></a>"
      ]
    },
    {
      "cell_type": "markdown",
      "source": [
        "https://github.com/Elwing-Chou/kmu"
      ],
      "metadata": {
        "id": "DM4tdTQ3gvqY"
      }
    },
    {
      "cell_type": "markdown",
      "source": [
        "latex math\n",
        "\n",
        "$ \\frac{1}{2} \\sum_{i=1}^n (x - \\mu)^2 $"
      ],
      "metadata": {
        "id": "OVHGdQnLcMPi"
      }
    },
    {
      "cell_type": "markdown",
      "source": [
        "JSON格式: \n",
        "\n",
        "1. list型態(同類型): [60, 30, 20]\n",
        "2. dict型態(聚集表示複雜型態): {\"姓名\":\"Elwing\", \"身高\":175}\n",
        "\n",
        "key-value\n",
        "1. list: key1(0, 1, 2) key2(-3, -2, -1)\n",
        "2. dict: key自定義(數字/字串/tuple)\n",
        "\n",
        "key-value最重要的操作(查詢): 要查的東西[key]\n",
        "\n",
        "list[0]/dict[\"姓名\"]"
      ],
      "metadata": {
        "id": "McDVOfiflgqS"
      }
    },
    {
      "cell_type": "code",
      "execution_count": 3,
      "metadata": {
        "id": "fpmsi1KhbQpm"
      },
      "outputs": [],
      "source": [
        "import json\n",
        "import pandas as pd\n",
        "import urllib.request as req\n",
        "\n",
        "url = \"https://www.google.com/doodles/json/2022/11?hl=zh-TW\"\n",
        "response = req.urlopen(url)\n",
        "# response->檔案型態(支援.read())\n",
        "# json.load(檔案) -> list/dict型態\n",
        "data_json = json.load(response)\n",
        "# pd.DataFrame(表格型態)\n",
        "data_table = pd.json_normalize(data_json)\n",
        "# 如果你要存檔\n",
        "data_table.to_csv(\"doodle.csv\", encoding=\"utf-8\")"
      ]
    },
    {
      "cell_type": "markdown",
      "source": [
        "1. 每一個商品存成一個JSON檔案"
      ],
      "metadata": {
        "id": "5JDes3zt1I5Z"
      }
    },
    {
      "cell_type": "code",
      "source": [
        "# open -> read -> close 會出現close沒有做到的問題\n",
        "# with ... as 保證會 close\n",
        "import os\n",
        "base = \"google\"\n",
        "if not os.path.exists(base):\n",
        "    os.makedirs(base)\n",
        "\n",
        "with open(\"2022_11.json\", \"w\", encoding=\"utf-8\") as f:\n",
        "    json.dump(data_json, \n",
        "         f,\n",
        "         ensure_ascii=False,\n",
        "         indent=4)\n",
        "# 我最常做: 把每個資料當成一個json\n",
        "for pic in data_json:\n",
        "    imgurl = \"https:\" + pic[\"high_res_url\"]\n",
        "    fn = imgurl.split(\"/\")[-1]\n",
        "    fp = os.path.join(base, fn)\n",
        "    # 下載圖片\n",
        "    req.urlretrieve(imgurl, fp)\n",
        "    fn = fn.split(\".\")[0] + \".json\"\n",
        "    fp = os.path.join(base, fn)\n",
        "    with open(fp, \"w\", encoding=\"utf-8\") as f:\n",
        "        json.dump(pic,\n",
        "             f,\n",
        "             ensure_ascii=False,\n",
        "             indent=4)"
      ],
      "metadata": {
        "id": "_SKnZWIY1XFn"
      },
      "execution_count": 14,
      "outputs": []
    }
  ]
}